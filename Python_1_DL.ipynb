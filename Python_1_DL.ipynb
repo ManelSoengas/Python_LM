{
  "nbformat": 4,
  "nbformat_minor": 0,
  "metadata": {
    "colab": {
      "provenance": [],
      "authorship_tag": "ABX9TyPtuLsT179iz7lZEggBlom1",
      "include_colab_link": true
    },
    "kernelspec": {
      "name": "python3",
      "display_name": "Python 3"
    },
    "language_info": {
      "name": "python"
    }
  },
  "cells": [
    {
      "cell_type": "markdown",
      "metadata": {
        "id": "view-in-github",
        "colab_type": "text"
      },
      "source": [
        "<a href=\"https://colab.research.google.com/github/ManelSoengas/Python_LM/blob/main/Python_1_DL.ipynb\" target=\"_parent\"><img src=\"https://colab.research.google.com/assets/colab-badge.svg\" alt=\"Open In Colab\"/></a>"
      ]
    },
    {
      "cell_type": "markdown",
      "source": [
        "**Què és el Deep Learning?**\n",
        "\n",
        "---\n",
        "\n",
        "\n",
        "Abans d’entrar en la programació, cal entendre què és el Deep Learning i en què es diferencia d’altres tècniques d’intel·ligència artificial.\n",
        "\n",
        "1. Definició\n",
        "El Deep Learning és una branca del Machine Learning basada en xarxes neuronals artificials profundes, que imiten el funcionament del cervell humà per aprendre patrons i prendre decisions.\n",
        "\n",
        "2. Relació amb Machine Learning i IA\n",
        "*  IA → Concepte global que inclou qualsevol sistema que pugui prendre decisions automatitzades.\n",
        "*  Machine Learning → Una branca de la IA que aprèn a partir de dades sense programació explícita.\n",
        "*  Deep Learning → Subcamp del Machine Learning que usa xarxes neuronals profundes.\n",
        "\n",
        "🔹 Aplicacions reals del Deep Learning\n",
        "1. Reconeixement d’imatges (Computer Vision)\n",
        "2. Generació de text (Large Language Models - LLM)\n",
        "3. Vehicles autònoms\n",
        "4. Assistents virtuals (ChatGPT, Alexa, Siri)\n",
        "5. Traducció automàtica"
      ],
      "metadata": {
        "id": "Z7fPUJdCMom7"
      }
    },
    {
      "cell_type": "markdown",
      "source": [
        "**Instal·lació de llibreries clau**\n",
        "\n",
        "---\n",
        "\n",
        "\n",
        "Un cop dins Colab, podem instal·lar i importar les llibreries necessàries:"
      ],
      "metadata": {
        "id": "9RuvsFGWOaPk"
      }
    },
    {
      "cell_type": "code",
      "execution_count": null,
      "metadata": {
        "id": "WbNUdHBcMnyu"
      },
      "outputs": [],
      "source": [
        "import numpy as np   # Treball amb matrius i tensors\n",
        "import pandas as pd  # Manipulació de dades\n",
        "import matplotlib.pyplot as plt  # Gràfics\n",
        "import seaborn as sns  # Visualitzacions avançades\n"
      ]
    },
    {
      "cell_type": "code",
      "source": [
        "import tensorflow as tf  # Framework de Google per Deep Learning\n",
        "import torch  # Alternativa de Meta\n",
        "import torchvision  # Treball amb imatges\n",
        "import transformers  # Per treballar amb models pre-entrenats (LLM)\n",
        "import tensorflow as tf\n",
        "import tensorflow\n"
      ],
      "metadata": {
        "id": "ofrpvaeVOjeU"
      },
      "execution_count": null,
      "outputs": []
    },
    {
      "cell_type": "markdown",
      "source": [
        "**Configuració de GPU en Colab**\n",
        "\n",
        "---\n",
        "\n",
        "\n",
        "Per entrenar models grans, és important utilitzar una GPU. Google Colab ofereix GPU gratuïtes."
      ],
      "metadata": {
        "id": "kHpNFfs3Ov26"
      }
    },
    {
      "cell_type": "code",
      "source": [
        "import torch\n",
        "print(\"GPU disponible:\", torch.cuda.is_available())\n",
        "\n",
        "import tensorflow as tf\n",
        "print(\"GPU detectada per TensorFlow:\", tf.config.list_physical_devices('GPU'))\n"
      ],
      "metadata": {
        "colab": {
          "base_uri": "https://localhost:8080/"
        },
        "id": "0f-gmqtGOyjW",
        "outputId": "c4bbd797-d2fc-4d14-be51-76934fde3ea9"
      },
      "execution_count": null,
      "outputs": [
        {
          "output_type": "stream",
          "name": "stdout",
          "text": [
            "GPU disponible: False\n",
            "GPU detectada per TensorFlow: []\n"
          ]
        }
      ]
    },
    {
      "cell_type": "markdown",
      "source": [
        "**Primera prova de model de xarxa neuronal**\n",
        "\n",
        "---\n",
        "\n",
        "\n",
        "Fem una simple xarxa neuronal amb TensorFlow/Keras per assegurar que tot funciona:"
      ],
      "metadata": {
        "id": "n_V0B90HSy0F"
      }
    },
    {
      "cell_type": "code",
      "source": [
        "from tensorflow.keras.models import Sequential\n",
        "from tensorflow.keras.layers import Dense\n",
        "\n",
        "# Crear una xarxa neuronal bàsica\n",
        "model = Sequential([\n",
        "    Dense(64, activation='relu', input_shape=(10,)),  # Capa oculta\n",
        "    Dense(1, activation='sigmoid')  # Sortida binària\n",
        "])\n",
        "\n",
        "# Compilar el model\n",
        "model.compile(optimizer='adam', loss='binary_crossentropy', metrics=['accuracy'])\n",
        "\n",
        "# Mostrar el resum del model\n",
        "model.summary()\n"
      ],
      "metadata": {
        "colab": {
          "base_uri": "https://localhost:8080/",
          "height": 248
        },
        "id": "PUJ2DXyWS26B",
        "outputId": "ac6eff85-3e47-42ed-9f3b-d740d988988d"
      },
      "execution_count": null,
      "outputs": [
        {
          "output_type": "stream",
          "name": "stderr",
          "text": [
            "/usr/local/lib/python3.11/dist-packages/keras/src/layers/core/dense.py:87: UserWarning: Do not pass an `input_shape`/`input_dim` argument to a layer. When using Sequential models, prefer using an `Input(shape)` object as the first layer in the model instead.\n",
            "  super().__init__(activity_regularizer=activity_regularizer, **kwargs)\n"
          ]
        },
        {
          "output_type": "display_data",
          "data": {
            "text/plain": [
              "\u001b[1mModel: \"sequential\"\u001b[0m\n"
            ],
            "text/html": [
              "<pre style=\"white-space:pre;overflow-x:auto;line-height:normal;font-family:Menlo,'DejaVu Sans Mono',consolas,'Courier New',monospace\"><span style=\"font-weight: bold\">Model: \"sequential\"</span>\n",
              "</pre>\n"
            ]
          },
          "metadata": {}
        },
        {
          "output_type": "display_data",
          "data": {
            "text/plain": [
              "┏━━━━━━━━━━━━━━━━━━━━━━━━━━━━━━━━━━━━━━┳━━━━━━━━━━━━━━━━━━━━━━━━━━━━━┳━━━━━━━━━━━━━━━━━┓\n",
              "┃\u001b[1m \u001b[0m\u001b[1mLayer (type)                        \u001b[0m\u001b[1m \u001b[0m┃\u001b[1m \u001b[0m\u001b[1mOutput Shape               \u001b[0m\u001b[1m \u001b[0m┃\u001b[1m \u001b[0m\u001b[1m        Param #\u001b[0m\u001b[1m \u001b[0m┃\n",
              "┡━━━━━━━━━━━━━━━━━━━━━━━━━━━━━━━━━━━━━━╇━━━━━━━━━━━━━━━━━━━━━━━━━━━━━╇━━━━━━━━━━━━━━━━━┩\n",
              "│ dense (\u001b[38;5;33mDense\u001b[0m)                        │ (\u001b[38;5;45mNone\u001b[0m, \u001b[38;5;34m64\u001b[0m)                  │             \u001b[38;5;34m704\u001b[0m │\n",
              "├──────────────────────────────────────┼─────────────────────────────┼─────────────────┤\n",
              "│ dense_1 (\u001b[38;5;33mDense\u001b[0m)                      │ (\u001b[38;5;45mNone\u001b[0m, \u001b[38;5;34m1\u001b[0m)                   │              \u001b[38;5;34m65\u001b[0m │\n",
              "└──────────────────────────────────────┴─────────────────────────────┴─────────────────┘\n"
            ],
            "text/html": [
              "<pre style=\"white-space:pre;overflow-x:auto;line-height:normal;font-family:Menlo,'DejaVu Sans Mono',consolas,'Courier New',monospace\">┏━━━━━━━━━━━━━━━━━━━━━━━━━━━━━━━━━━━━━━┳━━━━━━━━━━━━━━━━━━━━━━━━━━━━━┳━━━━━━━━━━━━━━━━━┓\n",
              "┃<span style=\"font-weight: bold\"> Layer (type)                         </span>┃<span style=\"font-weight: bold\"> Output Shape                </span>┃<span style=\"font-weight: bold\">         Param # </span>┃\n",
              "┡━━━━━━━━━━━━━━━━━━━━━━━━━━━━━━━━━━━━━━╇━━━━━━━━━━━━━━━━━━━━━━━━━━━━━╇━━━━━━━━━━━━━━━━━┩\n",
              "│ dense (<span style=\"color: #0087ff; text-decoration-color: #0087ff\">Dense</span>)                        │ (<span style=\"color: #00d7ff; text-decoration-color: #00d7ff\">None</span>, <span style=\"color: #00af00; text-decoration-color: #00af00\">64</span>)                  │             <span style=\"color: #00af00; text-decoration-color: #00af00\">704</span> │\n",
              "├──────────────────────────────────────┼─────────────────────────────┼─────────────────┤\n",
              "│ dense_1 (<span style=\"color: #0087ff; text-decoration-color: #0087ff\">Dense</span>)                      │ (<span style=\"color: #00d7ff; text-decoration-color: #00d7ff\">None</span>, <span style=\"color: #00af00; text-decoration-color: #00af00\">1</span>)                   │              <span style=\"color: #00af00; text-decoration-color: #00af00\">65</span> │\n",
              "└──────────────────────────────────────┴─────────────────────────────┴─────────────────┘\n",
              "</pre>\n"
            ]
          },
          "metadata": {}
        },
        {
          "output_type": "display_data",
          "data": {
            "text/plain": [
              "\u001b[1m Total params: \u001b[0m\u001b[38;5;34m769\u001b[0m (3.00 KB)\n"
            ],
            "text/html": [
              "<pre style=\"white-space:pre;overflow-x:auto;line-height:normal;font-family:Menlo,'DejaVu Sans Mono',consolas,'Courier New',monospace\"><span style=\"font-weight: bold\"> Total params: </span><span style=\"color: #00af00; text-decoration-color: #00af00\">769</span> (3.00 KB)\n",
              "</pre>\n"
            ]
          },
          "metadata": {}
        },
        {
          "output_type": "display_data",
          "data": {
            "text/plain": [
              "\u001b[1m Trainable params: \u001b[0m\u001b[38;5;34m769\u001b[0m (3.00 KB)\n"
            ],
            "text/html": [
              "<pre style=\"white-space:pre;overflow-x:auto;line-height:normal;font-family:Menlo,'DejaVu Sans Mono',consolas,'Courier New',monospace\"><span style=\"font-weight: bold\"> Trainable params: </span><span style=\"color: #00af00; text-decoration-color: #00af00\">769</span> (3.00 KB)\n",
              "</pre>\n"
            ]
          },
          "metadata": {}
        },
        {
          "output_type": "display_data",
          "data": {
            "text/plain": [
              "\u001b[1m Non-trainable params: \u001b[0m\u001b[38;5;34m0\u001b[0m (0.00 B)\n"
            ],
            "text/html": [
              "<pre style=\"white-space:pre;overflow-x:auto;line-height:normal;font-family:Menlo,'DejaVu Sans Mono',consolas,'Courier New',monospace\"><span style=\"font-weight: bold\"> Non-trainable params: </span><span style=\"color: #00af00; text-decoration-color: #00af00\">0</span> (0.00 B)\n",
              "</pre>\n"
            ]
          },
          "metadata": {}
        }
      ]
    },
    {
      "cell_type": "code",
      "source": [],
      "metadata": {
        "id": "eI55KZNK4kMb"
      },
      "execution_count": null,
      "outputs": []
    }
  ]
}