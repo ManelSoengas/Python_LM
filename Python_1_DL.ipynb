{
  "nbformat": 4,
  "nbformat_minor": 0,
  "metadata": {
    "colab": {
      "provenance": [],
      "authorship_tag": "ABX9TyN+du2zbijgeQzX5eMKacGy",
      "include_colab_link": true
    },
    "kernelspec": {
      "name": "python3",
      "display_name": "Python 3"
    },
    "language_info": {
      "name": "python"
    }
  },
  "cells": [
    {
      "cell_type": "markdown",
      "metadata": {
        "id": "view-in-github",
        "colab_type": "text"
      },
      "source": [
        "<a href=\"https://colab.research.google.com/github/ManelSoengas/Python_LM/blob/main/Python_1_DL.ipynb\" target=\"_parent\"><img src=\"https://colab.research.google.com/assets/colab-badge.svg\" alt=\"Open In Colab\"/></a>"
      ]
    },
    {
      "cell_type": "markdown",
      "source": [
        "**Què és el Deep Learning?**\n",
        "\n",
        "---\n",
        "\n",
        "\n",
        "Abans d’entrar en la programació, cal entendre què és el Deep Learning i en què es diferencia d’altres tècniques d’intel·ligència artificial.\n",
        "\n",
        "1. Definició\n",
        "El Deep Learning és una branca del Machine Learning basada en xarxes neuronals artificials profundes, que imiten el funcionament del cervell humà per aprendre patrons i prendre decisions.\n",
        "\n",
        "2. Relació amb Machine Learning i IA\n",
        "*  IA → Concepte global que inclou qualsevol sistema que pugui prendre decisions automatitzades.\n",
        "*  Machine Learning → Una branca de la IA que aprèn a partir de dades sense programació explícita.\n",
        "*  Deep Learning → Subcamp del Machine Learning que usa xarxes neuronals profundes.\n",
        "\n",
        "🔹 Aplicacions reals del Deep Learning\n",
        "1. Reconeixement d’imatges (Computer Vision)\n",
        "2. Generació de text (Large Language Models - LLM)\n",
        "3. Vehicles autònoms\n",
        "4. Assistents virtuals (ChatGPT, Alexa, Siri)\n",
        "5. Traducció automàtica"
      ],
      "metadata": {
        "id": "Z7fPUJdCMom7"
      }
    },
    {
      "cell_type": "markdown",
      "source": [
        "**Instal·lació de llibreries clau**\n",
        "\n",
        "---\n",
        "\n",
        "\n",
        "Un cop dins Colab, podem instal·lar i importar les llibreries necessàries:"
      ],
      "metadata": {
        "id": "9RuvsFGWOaPk"
      }
    },
    {
      "cell_type": "code",
      "execution_count": 1,
      "metadata": {
        "id": "WbNUdHBcMnyu"
      },
      "outputs": [],
      "source": [
        "import numpy as np   # Treball amb matrius i tensors\n",
        "import pandas as pd  # Manipulació de dades\n",
        "import matplotlib.pyplot as plt  # Gràfics\n",
        "import seaborn as sns  # Visualitzacions avançades\n"
      ]
    },
    {
      "cell_type": "code",
      "source": [
        "import tensorflow as tf  # Framework de Google per Deep Learning\n",
        "import torch  # Alternativa de Meta\n",
        "import torchvision  # Treball amb imatges\n",
        "import transformers  # Per treballar amb models pre-entrenats (LLM)\n"
      ],
      "metadata": {
        "id": "ofrpvaeVOjeU"
      },
      "execution_count": 2,
      "outputs": []
    },
    {
      "cell_type": "markdown",
      "source": [
        "**Configuració de GPU en Colab**\n",
        "\n",
        "---\n",
        "\n",
        "\n",
        "Per entrenar models grans, és important utilitzar una GPU. Google Colab ofereix GPU gratuïtes."
      ],
      "metadata": {
        "id": "kHpNFfs3Ov26"
      }
    },
    {
      "cell_type": "code",
      "source": [
        "import torch\n",
        "print(\"GPU disponible:\", torch.cuda.is_available())\n",
        "\n",
        "import tensorflow as tf\n",
        "print(\"GPU detectada per TensorFlow:\", tf.config.list_physical_devices('GPU'))\n"
      ],
      "metadata": {
        "colab": {
          "base_uri": "https://localhost:8080/"
        },
        "id": "0f-gmqtGOyjW",
        "outputId": "c4bbd797-d2fc-4d14-be51-76934fde3ea9"
      },
      "execution_count": 3,
      "outputs": [
        {
          "output_type": "stream",
          "name": "stdout",
          "text": [
            "GPU disponible: False\n",
            "GPU detectada per TensorFlow: []\n"
          ]
        }
      ]
    }
  ]
}