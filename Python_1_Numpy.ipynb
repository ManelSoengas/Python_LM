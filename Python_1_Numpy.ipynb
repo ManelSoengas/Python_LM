{
  "nbformat": 4,
  "nbformat_minor": 0,
  "metadata": {
    "colab": {
      "provenance": [],
      "authorship_tag": "ABX9TyMPzoOSvwbAECQzWzIpx3GO",
      "include_colab_link": true
    },
    "kernelspec": {
      "name": "python3",
      "display_name": "Python 3"
    },
    "language_info": {
      "name": "python"
    }
  },
  "cells": [
    {
      "cell_type": "markdown",
      "metadata": {
        "id": "view-in-github",
        "colab_type": "text"
      },
      "source": [
        "<a href=\"https://colab.research.google.com/github/ManelSoengas/Python_LM/blob/main/Python_1_Numpy.ipynb\" target=\"_parent\"><img src=\"https://colab.research.google.com/assets/colab-badge.svg\" alt=\"Open In Colab\"/></a>"
      ]
    },
    {
      "cell_type": "code",
      "execution_count": 1,
      "metadata": {
        "colab": {
          "base_uri": "https://localhost:8080/"
        },
        "id": "IXT8VDMz6sH8",
        "outputId": "2e3e430b-3c38-47eb-86d8-68723094a381"
      },
      "outputs": [
        {
          "output_type": "stream",
          "name": "stdout",
          "text": [
            "Requirement already satisfied: numpy in /usr/local/lib/python3.11/dist-packages (1.26.4)\n",
            "Requirement already satisfied: pandas in /usr/local/lib/python3.11/dist-packages (2.2.2)\n",
            "Requirement already satisfied: matplotlib in /usr/local/lib/python3.11/dist-packages (3.10.0)\n",
            "Requirement already satisfied: seaborn in /usr/local/lib/python3.11/dist-packages (0.13.2)\n",
            "Requirement already satisfied: python-dateutil>=2.8.2 in /usr/local/lib/python3.11/dist-packages (from pandas) (2.8.2)\n",
            "Requirement already satisfied: pytz>=2020.1 in /usr/local/lib/python3.11/dist-packages (from pandas) (2025.1)\n",
            "Requirement already satisfied: tzdata>=2022.7 in /usr/local/lib/python3.11/dist-packages (from pandas) (2025.1)\n",
            "Requirement already satisfied: contourpy>=1.0.1 in /usr/local/lib/python3.11/dist-packages (from matplotlib) (1.3.1)\n",
            "Requirement already satisfied: cycler>=0.10 in /usr/local/lib/python3.11/dist-packages (from matplotlib) (0.12.1)\n",
            "Requirement already satisfied: fonttools>=4.22.0 in /usr/local/lib/python3.11/dist-packages (from matplotlib) (4.55.8)\n",
            "Requirement already satisfied: kiwisolver>=1.3.1 in /usr/local/lib/python3.11/dist-packages (from matplotlib) (1.4.8)\n",
            "Requirement already satisfied: packaging>=20.0 in /usr/local/lib/python3.11/dist-packages (from matplotlib) (24.2)\n",
            "Requirement already satisfied: pillow>=8 in /usr/local/lib/python3.11/dist-packages (from matplotlib) (11.1.0)\n",
            "Requirement already satisfied: pyparsing>=2.3.1 in /usr/local/lib/python3.11/dist-packages (from matplotlib) (3.2.1)\n",
            "Requirement already satisfied: six>=1.5 in /usr/local/lib/python3.11/dist-packages (from python-dateutil>=2.8.2->pandas) (1.17.0)\n"
          ]
        }
      ],
      "source": [
        "!pip install numpy pandas matplotlib seaborn\n"
      ]
    },
    {
      "cell_type": "code",
      "source": [
        "# Algebra i matrius\n",
        "import numpy as np\n",
        "\n",
        "# Crear una matriu aleatòria de 3x3\n",
        "matriu = np.random.rand(3,3)\n",
        "print(\"Matriu aleatòria:\\n\", matriu)\n",
        "\n",
        "# Operacions bàsiques\n",
        "print(\"Suma de la matriu:\\n\", matriu + 2)\n",
        "print(\"Producte escalar:\\n\", matriu * 2)\n"
      ],
      "metadata": {
        "colab": {
          "base_uri": "https://localhost:8080/"
        },
        "id": "qe_bGune7BSk",
        "outputId": "43dbf130-9119-473b-bfd9-89b24f9f694d"
      },
      "execution_count": 2,
      "outputs": [
        {
          "output_type": "stream",
          "name": "stdout",
          "text": [
            "Matriu aleatòria:\n",
            " [[0.20540497 0.29458653 0.87065012]\n",
            " [0.26687319 0.45081381 0.90339209]\n",
            " [0.00534315 0.15579379 0.01050105]]\n",
            "Suma de la matriu:\n",
            " [[2.20540497 2.29458653 2.87065012]\n",
            " [2.26687319 2.45081381 2.90339209]\n",
            " [2.00534315 2.15579379 2.01050105]]\n",
            "Producte escalar:\n",
            " [[0.41080995 0.58917305 1.74130025]\n",
            " [0.53374637 0.90162762 1.80678418]\n",
            " [0.0106863  0.31158759 0.02100209]]\n"
          ]
        }
      ]
    },
    {
      "cell_type": "code",
      "source": [
        "#Exercici\n",
        "#Crea una matriu 5x5 amb nombres enters aleatoris entre 1 i 100 i calcula la seva mitjana.\n",
        "\n",
        "import numpy as np\n",
        "\n",
        "# Crear una matriu aleatòria de 5x5\n",
        "matriu = np.random.randint(100, size=(5, 5))\n",
        "print(\"Matriu aleatòria:\\n\", matriu)\n"
      ],
      "metadata": {
        "colab": {
          "base_uri": "https://localhost:8080/"
        },
        "id": "TcvBT0PJ7QYl",
        "outputId": "10d57099-06ec-4d96-e265-90ed4fa84aa9"
      },
      "execution_count": 4,
      "outputs": [
        {
          "output_type": "stream",
          "name": "stdout",
          "text": [
            "Matriu aleatòria:\n",
            " [[46 44 80 32 40]\n",
            " [28 24 83 60 57]\n",
            " [12 80 75 32 79]\n",
            " [79  2 32  2 47]\n",
            " [51 61 20 65 72]]\n"
          ]
        }
      ]
    }
  ]
}