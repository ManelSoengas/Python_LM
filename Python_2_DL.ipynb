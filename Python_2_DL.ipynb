{
  "nbformat": 4,
  "nbformat_minor": 0,
  "metadata": {
    "colab": {
      "provenance": [],
      "authorship_tag": "ABX9TyM6otawU8BH8sR6dDeLxSQF",
      "include_colab_link": true
    },
    "kernelspec": {
      "name": "python3",
      "display_name": "Python 3"
    },
    "language_info": {
      "name": "python"
    }
  },
  "cells": [
    {
      "cell_type": "markdown",
      "metadata": {
        "id": "view-in-github",
        "colab_type": "text"
      },
      "source": [
        "<a href=\"https://colab.research.google.com/github/ManelSoengas/Python_LM/blob/main/Python_2_DL.ipynb\" target=\"_parent\"><img src=\"https://colab.research.google.com/assets/colab-badge.svg\" alt=\"Open In Colab\"/></a>"
      ]
    },
    {
      "cell_type": "markdown",
      "source": [
        "# **Fonaments de Python aplicats al Deep Learning**\n",
        "\n",
        "---\n",
        "\n",
        "\n",
        "\n",
        "\n",
        "1. **Manipulació de Dades amb NumPy i Pandas**\n",
        "\n",
        "\n",
        "\n",
        "\n",
        "\n",
        "Per treballar amb Deep Learning, necessitem gestionar grans volums de dades eficientment. Aquí és on NumPy i Pandas es tornen essencials.\n",
        "\n",
        "2. **NumPy: Operacions amb Matrius i Tensors**\n",
        "\n",
        "NumPy és la llibreria fonamental per treballar amb arrays i tensors en Python. És molt més ràpid i eficient que les llistes convencionals.\n",
        "\n"
      ],
      "metadata": {
        "id": "fziyzMKY5MPQ"
      }
    },
    {
      "cell_type": "code",
      "execution_count": 1,
      "metadata": {
        "id": "ZbKs7vQe46NP"
      },
      "outputs": [],
      "source": [
        "# Instal·lació i importació\n",
        "\n",
        "import numpy as np\n"
      ]
    },
    {
      "cell_type": "markdown",
      "source": [
        "3. **Creació d’Arrays**\n",
        "\n",
        "NumPy utilitza ndarrays (n-dimensional arrays), que són estructures molt més ràpides que les llistes tradicionals de Python."
      ],
      "metadata": {
        "id": "8R_OZKTF6DQf"
      }
    },
    {
      "cell_type": "code",
      "source": [
        "# Crear un array 1D\n",
        "arr1 = np.array([1, 2, 3, 4, 5])\n",
        "print(arr1)\n",
        "\n",
        "# Crear un array 2D\n",
        "arr2 = np.array([[1, 2, 3], [4, 5, 6]])\n",
        "print(arr2)\n",
        "\n",
        "# Crear un array ple de zeros o uns\n",
        "zeros = np.zeros((3, 3))  # Matriu 3x3 de zeros\n",
        "ones = np.ones((2, 4))  # Matriu 2x4 de uns\n",
        "print(zeros)\n",
        "print(ones)\n",
        "\n",
        "# Crear un array amb valors aleatoris\n",
        "rand_arr = np.random.rand(4, 4)  # Matriu 4x4 amb valors entre 0 i 1\n",
        "print(rand_arr)\n"
      ],
      "metadata": {
        "colab": {
          "base_uri": "https://localhost:8080/"
        },
        "id": "sqBmTNvQ5__g",
        "outputId": "d8fb081c-a3ea-4f91-f61d-edcac463faad"
      },
      "execution_count": 2,
      "outputs": [
        {
          "output_type": "stream",
          "name": "stdout",
          "text": [
            "[1 2 3 4 5]\n",
            "[[1 2 3]\n",
            " [4 5 6]]\n",
            "[[0. 0. 0.]\n",
            " [0. 0. 0.]\n",
            " [0. 0. 0.]]\n",
            "[[1. 1. 1. 1.]\n",
            " [1. 1. 1. 1.]]\n",
            "[[0.71025247 0.24275434 0.32920196 0.36331327]\n",
            " [0.99981784 0.48355444 0.83987175 0.48800344]\n",
            " [0.57201864 0.15701358 0.99960436 0.54363084]\n",
            " [0.16180849 0.48517669 0.35460281 0.92851323]]\n"
          ]
        }
      ]
    },
    {
      "cell_type": "markdown",
      "source": [
        "4. **Propietat dels arrays**\n"
      ],
      "metadata": {
        "id": "LAWfCM8B6gCR"
      }
    },
    {
      "cell_type": "code",
      "source": [
        "print(arr2.shape)   # Mida (files, columnes)\n",
        "print(arr2.dtype)   # Tipus de dades\n",
        "print(arr2.ndim)    # Dimensions de l'array\n"
      ],
      "metadata": {
        "colab": {
          "base_uri": "https://localhost:8080/"
        },
        "id": "cWsGV-Ss6mt-",
        "outputId": "e98e4fd1-627e-4051-ba63-ab90aa606f92"
      },
      "execution_count": 3,
      "outputs": [
        {
          "output_type": "stream",
          "name": "stdout",
          "text": [
            "(2, 3)\n",
            "int64\n",
            "2\n"
          ]
        }
      ]
    },
    {
      "cell_type": "markdown",
      "source": [
        "5. **Operacions amb arrays**"
      ],
      "metadata": {
        "id": "sZdUfpcZ6voN"
      }
    },
    {
      "cell_type": "code",
      "source": [
        "a = np.array([10, 20, 30, 40])\n",
        "b = np.array([1, 2, 3, 4])\n",
        "\n",
        "print(a + b)  # Suma element a element\n",
        "print(a * b)  # Multiplicació element a element\n",
        "print(a ** 2) # Elevació al quadrat\n",
        "print(np.sqrt(a))  # Arrel quadrada\n",
        "print(np.mean(a))  # Mitjana\n",
        "print(np.max(a))   # Màxim\n",
        "print(np.min(a))   # Mínim\n"
      ],
      "metadata": {
        "colab": {
          "base_uri": "https://localhost:8080/"
        },
        "id": "G-qNHwsi6z9L",
        "outputId": "a344a078-6e49-4df2-9f6d-68ad7f02ca18"
      },
      "execution_count": 4,
      "outputs": [
        {
          "output_type": "stream",
          "name": "stdout",
          "text": [
            "[11 22 33 44]\n",
            "[ 10  40  90 160]\n",
            "[ 100  400  900 1600]\n",
            "[3.16227766 4.47213595 5.47722558 6.32455532]\n",
            "25.0\n",
            "40\n",
            "10\n"
          ]
        }
      ]
    },
    {
      "cell_type": "markdown",
      "source": [
        "6. **Indexació i Slicing**"
      ],
      "metadata": {
        "id": "7CXrk3Hj7FKO"
      }
    },
    {
      "cell_type": "code",
      "source": [
        "arr = np.array([10, 20, 30, 40, 50])\n",
        "\n",
        "print(arr[0])  # Primer element\n",
        "print(arr[-1]) # Últim element\n",
        "\n",
        "print(arr[1:4])  # Elements del segon al quart\n",
        "print(arr[:3])   # Primers tres elements\n",
        "print(arr[::2])  # Elements amb salt de 2 en 2\n"
      ],
      "metadata": {
        "colab": {
          "base_uri": "https://localhost:8080/"
        },
        "id": "eG8Bemfz7IJC",
        "outputId": "afe0729e-4d72-4d34-a259-8b731337bd4d"
      },
      "execution_count": 5,
      "outputs": [
        {
          "output_type": "stream",
          "name": "stdout",
          "text": [
            "10\n",
            "50\n",
            "[20 30 40]\n",
            "[10 20 30]\n",
            "[10 30 50]\n"
          ]
        }
      ]
    },
    {
      "cell_type": "markdown",
      "source": [
        "# **Pandas: Tractament de Datasets**\n",
        "\n",
        "---\n",
        "\n",
        "\n",
        "Pandas és ideal per gestionar i manipular dades tabulars, com bases de dades o fulls de càlcul."
      ],
      "metadata": {
        "id": "mP3HjcH17ZkW"
      }
    },
    {
      "cell_type": "code",
      "source": [
        "# Instal·lació i importació\n",
        "\n",
        "import pandas as pd\n"
      ],
      "metadata": {
        "id": "iog9gZRx7eHR"
      },
      "execution_count": 6,
      "outputs": []
    },
    {
      "cell_type": "markdown",
      "source": [
        "1. **Creació de DataFrames**"
      ],
      "metadata": {
        "id": "oPdGTgit7n7r"
      }
    },
    {
      "cell_type": "code",
      "source": [
        "# Crear un DataFrame manualment\n",
        "data = {\n",
        "    'Nom': ['Anna', 'Pere', 'Maria', 'Joan'],\n",
        "    'Edat': [25, 30, 22, 35],\n",
        "    'Alçada': [1.65, 1.80, 1.75, 1.90]\n",
        "}\n",
        "\n",
        "df = pd.DataFrame(data)\n",
        "print(df)\n"
      ],
      "metadata": {
        "colab": {
          "base_uri": "https://localhost:8080/"
        },
        "id": "EqoAUqma7sP5",
        "outputId": "5d80db57-8e5f-4168-f18a-5703ebe88433"
      },
      "execution_count": 7,
      "outputs": [
        {
          "output_type": "stream",
          "name": "stdout",
          "text": [
            "     Nom  Edat  Alçada\n",
            "0   Anna    25    1.65\n",
            "1   Pere    30    1.80\n",
            "2  Maria    22    1.75\n",
            "3   Joan    35    1.90\n"
          ]
        }
      ]
    },
    {
      "cell_type": "markdown",
      "source": [
        "2. **Càrrega de datasets**"
      ],
      "metadata": {
        "id": "5SCBlZR-70Tq"
      }
    },
    {
      "cell_type": "code",
      "source": [
        "df = pd.read_csv('nom_arxiu.csv')  # Carregar un CSV\n",
        "df = pd.read_excel('nom_arxiu.xlsx')  # Carregar un Excel\n",
        "df = pd.read_json('nom_arxiu.json')  # Carregar JSON\n"
      ],
      "metadata": {
        "id": "QUsNQyjs75f4"
      },
      "execution_count": null,
      "outputs": []
    },
    {
      "cell_type": "markdown",
      "source": [
        "3. **Exploració de les dades**"
      ],
      "metadata": {
        "id": "FlttGbhX8A-l"
      }
    },
    {
      "cell_type": "code",
      "source": [
        "print(df.head())  # Primeres 5 files\n",
        "print(df.tail())  # Últimes 5 files\n",
        "print(df.info())  # Info general\n",
        "print(df.describe())  # Estadístiques bàsiques\n"
      ],
      "metadata": {
        "colab": {
          "base_uri": "https://localhost:8080/"
        },
        "id": "GlcEpRR78Fm4",
        "outputId": "a765ed63-792c-4de0-903b-829ae89e7268"
      },
      "execution_count": 8,
      "outputs": [
        {
          "output_type": "stream",
          "name": "stdout",
          "text": [
            "     Nom  Edat  Alçada\n",
            "0   Anna    25    1.65\n",
            "1   Pere    30    1.80\n",
            "2  Maria    22    1.75\n",
            "3   Joan    35    1.90\n",
            "     Nom  Edat  Alçada\n",
            "0   Anna    25    1.65\n",
            "1   Pere    30    1.80\n",
            "2  Maria    22    1.75\n",
            "3   Joan    35    1.90\n",
            "<class 'pandas.core.frame.DataFrame'>\n",
            "RangeIndex: 4 entries, 0 to 3\n",
            "Data columns (total 3 columns):\n",
            " #   Column  Non-Null Count  Dtype  \n",
            "---  ------  --------------  -----  \n",
            " 0   Nom     4 non-null      object \n",
            " 1   Edat    4 non-null      int64  \n",
            " 2   Alçada  4 non-null      float64\n",
            "dtypes: float64(1), int64(1), object(1)\n",
            "memory usage: 228.0+ bytes\n",
            "None\n",
            "            Edat    Alçada\n",
            "count   4.000000  4.000000\n",
            "mean   28.000000  1.775000\n",
            "std     5.715476  0.104083\n",
            "min    22.000000  1.650000\n",
            "25%    24.250000  1.725000\n",
            "50%    27.500000  1.775000\n",
            "75%    31.250000  1.825000\n",
            "max    35.000000  1.900000\n"
          ]
        }
      ]
    },
    {
      "cell_type": "markdown",
      "source": [
        "4. **Selecció de files i columnes**"
      ],
      "metadata": {
        "id": "-INBEq__8QP1"
      }
    },
    {
      "cell_type": "code",
      "source": [
        "print(df['Edat'])  # Seleccionar una columna\n",
        "print(df[['Nom', 'Edat']])  # Seleccionar múltiples columnes\n",
        "\n",
        "print(df.iloc[0])  # Seleccionar la primera fila\n",
        "print(df.loc[df['Edat'] > 25])  # Seleccionar files amb una condició\n"
      ],
      "metadata": {
        "colab": {
          "base_uri": "https://localhost:8080/"
        },
        "id": "pkk7HP4a8Vra",
        "outputId": "95004b84-dc0c-4845-d8f9-410dc0bebcb4"
      },
      "execution_count": 9,
      "outputs": [
        {
          "output_type": "stream",
          "name": "stdout",
          "text": [
            "0    25\n",
            "1    30\n",
            "2    22\n",
            "3    35\n",
            "Name: Edat, dtype: int64\n",
            "     Nom  Edat\n",
            "0   Anna    25\n",
            "1   Pere    30\n",
            "2  Maria    22\n",
            "3   Joan    35\n",
            "Nom       Anna\n",
            "Edat        25\n",
            "Alçada    1.65\n",
            "Name: 0, dtype: object\n",
            "    Nom  Edat  Alçada\n",
            "1  Pere    30     1.8\n",
            "3  Joan    35     1.9\n"
          ]
        }
      ]
    },
    {
      "cell_type": "markdown",
      "source": [
        "5. **Operacions bàsiques**"
      ],
      "metadata": {
        "id": "SYMmy8rI8eOt"
      }
    },
    {
      "cell_type": "code",
      "source": [
        "df['Edat'] = df['Edat'] + 1  # Incrementar edat\n",
        "df['IMC'] = df['Alçada'] / (df['Edat']**0.5)  # Nova columna\n",
        "df = df.sort_values(by='Edat', ascending=False)  # Ordenar per edat\n",
        "print(df)\n"
      ],
      "metadata": {
        "colab": {
          "base_uri": "https://localhost:8080/"
        },
        "id": "2ko-pcSO8i1C",
        "outputId": "be503423-0957-4006-e948-010998a9f532"
      },
      "execution_count": 11,
      "outputs": [
        {
          "output_type": "stream",
          "name": "stdout",
          "text": [
            "     Nom  Edat  Alçada       IMC\n",
            "3   Joan    37    1.90  0.312358\n",
            "1   Pere    32    1.80  0.318198\n",
            "0   Anna    27    1.65  0.317543\n",
            "2  Maria    24    1.75  0.357217\n"
          ]
        }
      ]
    },
    {
      "cell_type": "markdown",
      "source": [
        "# **Visualització amb Matplotlib i Seaborn**\n",
        "\n",
        "---\n",
        "\n",
        "\n",
        "Per a Deep Learning, és clau entendre les dades abans d’entrenar un model.\n",
        "1. **Matplotlib per gràfics senzills**"
      ],
      "metadata": {
        "id": "AQt6nckV8yJz"
      }
    },
    {
      "cell_type": "code",
      "source": [
        "import matplotlib.pyplot as plt\n",
        "\n",
        "x = np.linspace(0, 10, 100)\n",
        "y = np.sin(x)\n",
        "\n",
        "plt.plot(x, y, label=\"Sinus\")\n",
        "plt.xlabel(\"X\")\n",
        "plt.ylabel(\"Y\")\n",
        "plt.title(\"Gràfic de la funció sin(x)\")\n",
        "plt.legend()\n",
        "plt.show()\n"
      ],
      "metadata": {
        "colab": {
          "base_uri": "https://localhost:8080/",
          "height": 472
        },
        "id": "Lyk64DdW87yp",
        "outputId": "12fdfb9b-5a3a-4608-c67a-832fc4b5bb2c"
      },
      "execution_count": 12,
      "outputs": [
        {
          "output_type": "display_data",
          "data": {
            "text/plain": [
              "<Figure size 640x480 with 1 Axes>"
            ],
            "image/png": "[encoded data removed]"
          },
          "metadata": {}
        }
      ]
    },
    {
      "cell_type": "code",
      "source": [
        "import seaborn as sns\n",
        "\n",
        "sns.histplot(df['Edat'], bins=5, kde=True)\n",
        "plt.title(\"Distribució de l'edat\")\n",
        "plt.show()\n"
      ],
      "metadata": {
        "colab": {
          "base_uri": "https://localhost:8080/",
          "height": 472
        },
        "id": "3efTNR-c9BKh",
        "outputId": "b5d74033-cba3-43e4-ff11-b1bfab596a90"
      },
      "execution_count": 13,
      "outputs": [
        {
          "output_type": "display_data",
          "data": {
            "text/plain": [
              "<Figure size 640x480 with 1 Axes>"
            ],
            "image/png": "[encoded data removed]"
          },
          "metadata": {}
        }
      ]
    }
  ]
}